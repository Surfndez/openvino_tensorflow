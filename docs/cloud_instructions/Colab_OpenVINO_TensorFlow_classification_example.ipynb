{
  "nbformat": 4,
  "nbformat_minor": 0,
  "metadata": {
    "colab": {
      "name": "Copy of Colab_OpenVINO_TensorFlow_classification_example.ipynb",
      "provenance": [],
      "collapsed_sections": []
    },
    "kernelspec": {
      "display_name": "Python 3",
      "name": "python3"
    }
  },
  "cells": [
    {
      "cell_type": "markdown",
      "metadata": {
        "id": "dT0u-5Ix-JG5"
      },
      "source": [
        "[![Open In Colab](https://colab.research.google.com/assets/colab-badge.svg)](https://colab.research.google.com/github/openvinotoolkit/openvino_tensorflow/blob/master/docs/cloud_instructions/Colab_OpenVINO_TensorFlow_classification_example.ipynb)"
      ]
    },
    {
      "cell_type": "markdown",
      "metadata": {
        "id": "m0NqXHZ9pg82"
      },
      "source": [
        "## INSTALL OpenVINO™ integration with TensorFlow\n"
      ]
    },
    {
      "cell_type": "code",
      "metadata": {
        "id": "uOk7Kisgh1Nw"
      },
      "source": [
        "# Upload the required wheel files, models and images in a google drive folder\n",
        "# Uncomment and run the below command to copy them in your current workspace\n",
        "#!cp /content/drive/MyDrive/TF-OV/working_dir_files/* . \n",
        "\n",
        "!pip -q install --upgrade pip\n",
        "!pip -q install pillow\n",
        "\n",
        "# Install stock TensorFlow\n",
        "!pip -q install tensorflow==2.5.1 \n",
        "\n",
        "# Install OpenVINO™ integration with TensorFlow\n",
        "!pip -q install openvino-tensorflow"
      ],
      "execution_count": null,
      "outputs": []
    },
    {
      "cell_type": "code",
      "metadata": {
        "id": "sgy6S1B_rW9d"
      },
      "source": [
        "!ldd --version\n",
        "!python3 --version"
      ],
      "execution_count": null,
      "outputs": []
    },
    {
      "cell_type": "code",
      "metadata": {
        "id": "2MkE439_ybZB"
      },
      "source": [
        "!git clone --quiet https://github.com/openvinotoolkit/openvino_tensorflow.git\n",
        "%cd openvino_tensorflow\n",
        "!git submodule init\n",
        "!git submodule update --recursive\n"
      ],
      "execution_count": null,
      "outputs": []
    },
    {
      "cell_type": "markdown",
      "metadata": {
        "id": "tDQDLFx69izd"
      },
      "source": [
        "# Now lets infer using InceptionV3 pretained classification model"
      ]
    },
    {
      "cell_type": "code",
      "metadata": {
        "id": "1EImyzDiiHGW"
      },
      "source": [
        "from __future__ import absolute_import, division, print_function, unicode_literals\n",
        "from IPython.display import HTML\n",
        "\n",
        "import os\n",
        "import numpy as np\n",
        "import tensorflow as tf\n",
        "import openvino_tensorflow as ovtf\n",
        "from tensorflow.keras.applications.inception_v3 import InceptionV3, preprocess_input\n",
        "from tensorflow.keras.models import load_model\n",
        "from tensorflow.keras.preprocessing import image\n",
        "from PIL import Image\n",
        "import time\n",
        "\n",
        "import sys\n",
        "sys.path.append(os.getcwd() + '/examples')\n",
        "print(os.getcwd())\n",
        "from common.utils import get_input_mode"
      ],
      "execution_count": null,
      "outputs": []
    },
    {
      "cell_type": "code",
      "metadata": {
        "id": "h7Hlw2oDZXgu"
      },
      "source": [
        "def preprocess_image(file_name,\n",
        "               input_height=299,\n",
        "               input_width=299):\n",
        "    \"\"\"Reads input image file, resize it to given input height and width.\n",
        "       Preprocesses input image using Keras api and returns the image\n",
        "    \"\"\"  \n",
        "    pil_img = Image.open(file_name)\n",
        "    resized_image = pil_img.resize((input_height, input_width))\n",
        "    img_arr = image.img_to_array(resized_image)\n",
        "    result = preprocess_input(img_arr[tf.newaxis,...])\n",
        "\n",
        "    return result"
      ],
      "execution_count": null,
      "outputs": []
    },
    {
      "cell_type": "code",
      "metadata": {
        "id": "Mt54fcWXZbZA"
      },
      "source": [
        "def load_labels(label_file):\n",
        "    \"\"\"Parses the label file, assuming that labels are separated with a newline\n",
        "       in the file and returns the list of labels.\n",
        "    \"\"\"  \n",
        "    label = []\n",
        "    proto_as_ascii_lines = tf.io.gfile.GFile(label_file).readlines()\n",
        "    for l in proto_as_ascii_lines:\n",
        "        label.append(l.rstrip())\n",
        "    return label"
      ],
      "execution_count": null,
      "outputs": []
    },
    {
      "cell_type": "code",
      "metadata": {
        "id": "e812DUX92T43"
      },
      "source": [
        "def infer_openvino_tensorflow(model_file, file_name , input_height, input_width, label_file):\n",
        "    \"\"\"Takes the tensorflow model and all other input parameters as arguments. \n",
        "       Run inference on the classification model and prints the predictions.\n",
        "    \"\"\"\n",
        "    print(\"CREATE MODEL - BEGIN\")\n",
        "    if model_file==\"\":\n",
        "      model = InceptionV3(weights='imagenet')\n",
        "    else:\n",
        "      model = load_model(model_file)\n",
        "    print(\"CREATE MODEL - END\")\n",
        "\n",
        "    print(\"PREDICTION - BEGIN\") \n",
        "\n",
        "    img = preprocess_image(\n",
        "    file_name,\n",
        "    input_height=input_height,\n",
        "    input_width=input_width)\n",
        "\n",
        "    # Warmup\n",
        "    results = model.predict(img)\n",
        "    # Run\n",
        "    \n",
        "    for num_times in range(10):\n",
        "        start = time.time()\n",
        "        results = model.predict(img)\n",
        "        elapsed = time.time() - start\n",
        "        print('Inference time in ms: %f' % (elapsed * 1000))\n",
        "            \n",
        "    print(\"PREDICTION - END\")\n",
        "    results = np.squeeze(results)\n",
        "\n",
        "    if label_file:\n",
        "        top_k = results.argsort()[-5:][::-1]\n",
        "        labels = load_labels(label_file)\n",
        "        for i in top_k:\n",
        "            print(labels[i+1], results[i])\n",
        "    else:\n",
        "        print(\"No label file provided. Cannot print classification results\")"
      ],
      "execution_count": null,
      "outputs": []
    },
    {
      "cell_type": "code",
      "metadata": {
        "id": "_Dr7HWdgZds6"
      },
      "source": [
        "file_name = tf.keras.utils.get_file(\n",
        "    'grace_hopper.jpg',\n",
        "    \"https://www.tensorflow.org/images/grace_hopper.jpg\")\n",
        "model_file = \"\"\n",
        "label_file = tf.keras.utils.get_file(\n",
        "    'ImageNetLabels.txt',\n",
        "    'https://storage.googleapis.com/download.tensorflow.org/data/ImageNetLabels.txt')\n",
        "input_height = 299\n",
        "input_width = 299\n",
        "input_mean = 0\n",
        "input_std = 255\n",
        "backend_name = \"CPU\"\n",
        "    \n",
        "\n",
        "#Print list of available backends\n",
        "print('Available Backends:')\n",
        "backends_list = ovtf.list_backends()\n",
        "for backend in backends_list:\n",
        "    print(backend)\n",
        "ovtf.set_backend(backend_name)\n",
        "\n",
        "print(\"OpenVINO TensorFlow is enabled\")\n",
        "infer_openvino_tensorflow(model_file, file_name, input_height, input_width, label_file)"
      ],
      "execution_count": null,
      "outputs": []
    },
    {
      "cell_type": "code",
      "metadata": {
        "id": "nQXt492OASb8"
      },
      "source": [
        "#Disable\n",
        "ovtf.disable()\n",
        "print(\"\")\n",
        "print(\"\")\n",
        "print(\"OpenVINO TensorFlow is disabled\")\n",
        "infer_openvino_tensorflow(model_file, file_name, input_height, input_width, label_file )\n",
        "ovtf.enable()\n"
      ],
      "execution_count": null,
      "outputs": []
    }
  ]
}