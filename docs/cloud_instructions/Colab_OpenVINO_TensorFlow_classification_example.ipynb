{
  "cells": [
    {
      "cell_type": "markdown",
      "metadata": {
        "id": "dT0u-5Ix-JG5"
      },
      "source": [
        "[![Open In Colab](https://colab.research.google.com/assets/colab-badge.svg)](https://colab.research.google.com/github/openvinotoolkit/openvino_tensorflow/blob/master/docs/cloud_instructions/Colab_OpenVINO_TensorFlow_classification_example.ipynb)"
      ]
    },
    {
      "cell_type": "markdown",
      "metadata": {
        "id": "m0NqXHZ9pg82"
      },
      "source": [
        "## INSTALL OpenVINO™ integration with TensorFlow\n"
      ]
    },
    {
      "cell_type": "code",
      "execution_count": null,
      "metadata": {
        "colab": {
          "base_uri": "https://localhost:8080/"
        },
        "id": "uOk7Kisgh1Nw",
        "outputId": "a5a55863-7a3e-49e3-c8bc-f3359f5c494e"
      },
      "outputs": [],
      "source": [
        "# Upload the required wheel files, models and images in a google drive folder\n",
        "# Uncomment and run the below command to copy them in your current workspace\n",
        "#!cp /content/drive/MyDrive/TF-OV/working_dir_files/* . \n",
        "\n",
        "!pip -q install --upgrade pip\n",
        "!pip -q install pillow\n",
        "\n",
        "# Install stock TensorFlow\n",
        "!pip -q install tensorflow==2.5.1 \n",
        "\n",
        "# Install OpenVINO™ integration with TensorFlow\n",
        "!pip -q install openvino-tensorflow"
      ]
    },
    {
      "cell_type": "code",
      "execution_count": null,
      "metadata": {
        "colab": {
          "base_uri": "https://localhost:8080/"
        },
        "id": "sgy6S1B_rW9d",
        "outputId": "ecb94f9a-5d6c-46cb-f080-d8de4f253063"
      },
      "outputs": [],
      "source": [
        "!ldd --version\n",
        "!python3 --version"
      ]
    },
    {
      "cell_type": "code",
      "execution_count": null,
      "metadata": {
        "colab": {
          "base_uri": "https://localhost:8080/"
        },
        "id": "2MkE439_ybZB",
        "outputId": "d7e518c2-51a8-4ee4-fe65-39a71e65caf3"
      },
      "outputs": [],
      "source": [
        "!git clone --quiet https://github.com/openvinotoolkit/openvino_tensorflow.git\n",
        "%cd openvino_tensorflow\n",
        "!git submodule init\n",
        "!git submodule update --recursive\n",
        "%cd ..\n"
      ]
    },
    {
      "cell_type": "markdown",
      "metadata": {
        "id": "tDQDLFx69izd"
      },
      "source": [
        "# Now lets infer using InceptionV3 pretained classification model"
      ]
    },
    {
      "cell_type": "code",
      "execution_count": 35,
      "metadata": {
        "id": "1EImyzDiiHGW"
      },
      "outputs": [],
      "source": [
        "from __future__ import absolute_import, division, print_function, unicode_literals\n",
        "from IPython.display import HTML\n",
        "\n",
        "import os\n",
        "import numpy as np\n",
        "import tensorflow as tf\n",
        "import openvino_tensorflow as ovtf\n",
        "from tensorflow.keras.applications.inception_v3 import InceptionV3, preprocess_input\n",
        "from tensorflow.keras.models import load_model\n",
        "from tensorflow.keras.preprocessing import image\n",
        "from PIL import Image\n",
        "import time\n",
        "import cv2\n",
        "\n",
        "from common.utils import get_input_mode"
      ]
    },
    {
      "cell_type": "code",
      "execution_count": 36,
      "metadata": {
        "id": "h7Hlw2oDZXgu"
      },
      "outputs": [],
      "source": [
        "def preprocess_image(file_name,\n",
        "               input_height=299,\n",
        "               input_width=299):\n",
        "    \"\"\"Reads input image file, resize it to given input height and width.\n",
        "       Normalize the image using input mean and standard deviation and returns the image tensor\n",
        "    \"\"\"  \n",
        "    img = cv2.cvtColor(frame, cv2.COLOR_BGR2RGB)\n",
        "    pil_img = Image.fromarray(img)\n",
        "    resized_image = pil_img.resize((input_width, input_height))\n",
        "    img_arr = image.img_to_array(resized_image)\n",
        "    result = preprocess_input(img_arr[tf.newaxis,...])\n",
        "\n",
        "    return result"
      ]
    },
    {
      "cell_type": "code",
      "execution_count": 37,
      "metadata": {
        "id": "Mt54fcWXZbZA"
      },
      "outputs": [],
      "source": [
        "def load_labels(label_file):\n",
        "    \"\"\"Parses the label file, assuming that labels are separated with a newline\n",
        "       in the file and returns the list of labels.\n",
        "    \"\"\"  \n",
        "    label = []\n",
        "    proto_as_ascii_lines = tf.io.gfile.GFile(label_file).readlines()\n",
        "    for l in proto_as_ascii_lines:\n",
        "        label.append(l.rstrip())\n",
        "    return label"
      ]
    },
    {
      "cell_type": "code",
      "execution_count": 38,
      "metadata": {
        "id": "e812DUX92T43"
      },
      "outputs": [],
      "source": [
        "def infer_openvino_tensorflow(model_file, file_name , input_height, input_width, input_mean, input_std, label_file):\n",
        "    \"\"\"Takes the tensorflow model and all other input parameters as arguments. \n",
        "       Run inference on the classification model and prints the predictions.\n",
        "    \"\"\"\n",
        "    print(\"CREATE MODEL - BEGIN\")\n",
        "    if model_file==\"\":\n",
        "      model = InceptionV3(weights='imagenet')\n",
        "    else:\n",
        "      model = load_model(model_file)\n",
        "    print(\"CREATE MODEL - END\")\n",
        "\n",
        "    print(\"PREDICTION - BEGIN\") \n",
        "\n",
        "    img = preprocess_image(\n",
        "    file_name,\n",
        "    input_height=input_height,\n",
        "    input_width=input_width)\n",
        "\n",
        "    # Warmup\n",
        "    results = model.predict(img)\n",
        "    # Run\n",
        "    \n",
        "    for num_times in range(10):\n",
        "        start = time.time()\n",
        "        results = model.predict(img)\n",
        "        elapsed = time.time() - start\n",
        "        print('Inference time in ms: %f' % (elapsed * 1000))\n",
        "            \n",
        "    print(\"PREDICTION - END\")\n",
        "    results = np.squeeze(results)\n",
        "\n",
        "    if label_file:\n",
        "        top_k = results.argsort()[-5:][::-1]\n",
        "        labels = load_labels(label_file)\n",
        "        for i in top_k:\n",
        "            print(labels[i+1], results[i])\n",
        "    else:\n",
        "        print(\"No label file provided. Cannot print classification results\")"
      ]
    },
    {
      "cell_type": "code",
      "execution_count": null,
      "metadata": {
        "colab": {
          "base_uri": "https://localhost:8080/"
        },
        "id": "_Dr7HWdgZds6",
        "outputId": "7bf6bb69-b365-4d8f-f318-2076d842684f"
      },
      "outputs": [],
      "source": [
        "file_name = tf.keras.utils.get_file(\n",
        "    'grace_hopper.jpg',\n",
        "    \"https://www.tensorflow.org/images/grace_hopper.jpg\")\n",
        "model_file = \"\"\n",
        "label_file = tf.keras.utils.get_file(\n",
        "    'ImageNetLabels.txt',\n",
        "    'https://storage.googleapis.com/download.tensorflow.org/data/ImageNetLabels.txt')\n",
        "input_height = 299\n",
        "input_width = 299\n",
        "input_mean = 0\n",
        "input_std = 255\n",
        "backend_name = \"CPU\"\n",
        "    \n",
        "\n",
        "#Print list of available backends\n",
        "print('Available Backends:')\n",
        "backends_list = ovtf.list_backends()\n",
        "for backend in backends_list:\n",
        "    print(backend)\n",
        "ovtf.set_backend(backend_name)\n",
        "\n",
        "print(\"OpenVINO TensorFlow is enabled\")\n",
        "infer_openvino_tensorflow(model_file, file_name, input_height, input_width, input_mean, input_std, label_file)"
      ]
    },
    {
      "cell_type": "code",
      "execution_count": null,
      "metadata": {
        "colab": {
          "base_uri": "https://localhost:8080/"
        },
        "id": "nQXt492OASb8",
        "outputId": "7dcb2562-0238-4a4c-9a03-ba31c041552b"
      },
      "outputs": [],
      "source": [
        "#Disable\n",
        "ovtf.disable()\n",
        "print(\"\")\n",
        "print(\"\")\n",
        "print(\"OpenVINO TensorFlow is disabled\")\n",
        "infer_openvino_tensorflow(model_file, file_name, input_height, input_width, input_mean, input_std, label_file )\n",
        "ovtf.enable()\n"
      ]
    }
  ],
  "metadata": {
    "colab": {
      "collapsed_sections": [],
      "name": "Copy of Colab_OpenVINO_TensorFlow_classification_example.ipynb",
      "provenance": []
    },
    "kernelspec": {
      "display_name": "Python 3",
      "name": "python3"
    }
  },
  "nbformat": 4,
  "nbformat_minor": 0
}
